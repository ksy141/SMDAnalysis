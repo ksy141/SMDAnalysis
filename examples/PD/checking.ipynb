{
 "cells": [
  {
   "cell_type": "code",
   "execution_count": 1,
   "id": "85c4b641-84a4-4da8-a70c-59cae4dabb49",
   "metadata": {},
   "outputs": [],
   "source": [
    "%matplotlib inline\n",
    "import numpy as np\n",
    "import MDAnalysis as mda\n",
    "import matplotlib.pyplot as plt\n",
    "\n",
    "def _dfs(graph, start):\n",
    "    visited, stack = set(), [start]\n",
    "    while stack:\n",
    "        vertex = stack.pop()\n",
    "        if vertex not in visited:\n",
    "            visited.add(vertex)\n",
    "            stack.extend(graph[vertex] - visited)\n",
    "    return visited\n",
    "\n",
    "\n",
    "def _make_graph(matrix):\n",
    "    graph = {}\n",
    "    xis, yis = matrix.shape\n",
    "\n",
    "    for (xi, yi), value in np.ndenumerate(matrix):\n",
    "        if value == 0:\n",
    "            continue\n",
    "\n",
    "        n = xi * yis + yi\n",
    "        nlist = []\n",
    "\n",
    "        for dx in [-1, 0, 1]:\n",
    "            for dy in [-1, 0, 1]:\n",
    "                # 8-neighbors\n",
    "                x = divmod(xi + dx, xis)[1]\n",
    "                y = divmod(yi + dy, yis)[1]\n",
    "                if matrix[x, y] == 1:\n",
    "                    ndn = x * yis + y\n",
    "                    nlist.append(ndn)\n",
    "\n",
    "        graph[n] = set(nlist) - set([n])\n",
    "    return graph"
   ]
  },
  {
   "cell_type": "code",
   "execution_count": 2,
   "id": "5e979fba-9e3b-4e0a-892a-ffe508b0d924",
   "metadata": {},
   "outputs": [],
   "source": [
    "u = mda.Universe('PackingDefect1/TGglyc.gro', 'PackingDefect1/TGglyc.xtc')"
   ]
  },
  {
   "cell_type": "code",
   "execution_count": 3,
   "id": "c1676047-d52c-405e-bf7a-4f03dd79d7a8",
   "metadata": {},
   "outputs": [
    {
     "name": "stdout",
     "output_type": "stream",
     "text": [
      "[1, 5, 1, 15]\n"
     ]
    },
    {
     "data": {
      "image/png": "[encoded data removed]",
      "text/plain": [
       "<Figure size 432x288 with 1 Axes>"
      ]
     },
     "metadata": {
      "needs_background": "light"
     },
     "output_type": "display_data"
    }
   ],
   "source": [
    "defects = []\n",
    "\n",
    "u.trajectory[0]\n",
    "ag = u.select_atoms('prop z > 0')\n",
    "hz = np.average(ag.positions[:,2])\n",
    "agup = u.select_atoms('prop z > %f' %hz)\n",
    "agdw = u.select_atoms('prop z < %f' %hz)\n",
    "\n",
    "plt.scatter(agup.positions[:,0], agup.positions[:,1])\n",
    "plt.axis('square')\n",
    "\n",
    "xarray = np.arange(0, u.dimensions[0], 1)\n",
    "yarray = np.arange(0, u.dimensions[1], 1)\n",
    "xx, yy = np.meshgrid(xarray, yarray)\n",
    "Mup = np.zeros_like(xx)\n",
    "Mdw = np.zeros_like(xx)\n",
    "\n",
    "xind = agup.positions[:,0].astype(np.int64)\n",
    "yind = agup.positions[:,1].astype(np.int64)\n",
    "\n",
    "Mup[xind, yind] = 1\n",
    "\n",
    "graph = _make_graph(Mup)\n",
    "visited = set([])\n",
    "for n in graph:\n",
    "    if n not in visited:\n",
    "        defect_loc = _dfs(graph, n)\n",
    "        visited = visited.union(defect_loc)\n",
    "        defects.append(len(defect_loc))\n",
    "        \n",
    "print(defects)"
   ]
  },
  {
   "cell_type": "code",
   "execution_count": 4,
   "id": "3c21159a-2fc9-4660-a195-89720de27e65",
   "metadata": {},
   "outputs": [
    {
     "name": "stdout",
     "output_type": "stream",
     "text": [
      "[1, 5, 1, 15, 1, 1, 8, 8, 2, 2, 5, 24, 25, 4, 1, 1, 19, 11, 35, 45, 24]\n"
     ]
    }
   ],
   "source": [
    "defects = []\n",
    "for ts in u.trajectory:\n",
    "    ag = u.select_atoms('prop z > 0')\n",
    "    hz = np.average(ag.positions[:,2])\n",
    "    agup = u.select_atoms('prop z > %f' %hz)\n",
    "    agdw = u.select_atoms('prop z < %f' %hz)\n",
    "\n",
    "    xarray = np.arange(0, u.dimensions[0], 1)\n",
    "    yarray = np.arange(0, u.dimensions[1], 1)\n",
    "    xx, yy = np.meshgrid(xarray, yarray)\n",
    "    Mup = np.zeros_like(xx)\n",
    "    Mdw = np.zeros_like(xx)\n",
    "    \n",
    "    \n",
    "    ### UP\n",
    "    xind = agup.positions[:,0].astype(np.int64)\n",
    "    yind = agup.positions[:,1].astype(np.int64)\n",
    "    Mup[xind, yind] = 1\n",
    "\n",
    "    graph = _make_graph(Mup)\n",
    "    visited = set([])\n",
    "    for n in graph:\n",
    "        if n not in visited:\n",
    "            defect_loc = _dfs(graph, n)\n",
    "            visited = visited.union(defect_loc)\n",
    "            defects.append(len(defect_loc))\n",
    "            \n",
    "    \n",
    "    ### DW  \n",
    "    xind = agdw.positions[:,0].astype(np.int64)\n",
    "    yind = agdw.positions[:,1].astype(np.int64)\n",
    "    Mdw[xind, yind] = 1\n",
    "\n",
    "    graph = _make_graph(Mdw)\n",
    "    visited = set([])\n",
    "    for n in graph:\n",
    "        if n not in visited:\n",
    "            defect_loc = _dfs(graph, n)\n",
    "            visited = visited.union(defect_loc)\n",
    "            defects.append(len(defect_loc))\n",
    "\n",
    "print(defects)"
   ]
  },
  {
   "cell_type": "code",
   "execution_count": 5,
   "id": "bf7e0c65-d294-48fe-9f24-43e1a5cdb950",
   "metadata": {},
   "outputs": [
    {
     "data": {
      "text/plain": [
       "<matplotlib.collections.PathCollection at 0x7f8a5470e550>"
      ]
     },
     "execution_count": 5,
     "metadata": {},
     "output_type": "execute_result"
    },
    {
     "data": {
      "image/png": "[encoded data removed]",
      "text/plain": [
       "<Figure size 432x288 with 1 Axes>"
      ]
     },
     "metadata": {
      "needs_background": "light"
     },
     "output_type": "display_data"
    }
   ],
   "source": [
    "### HISTOGRAM\n",
    "h, _ = np.histogram(defects, bins=np.linspace(0, 150, 600))\n",
    "h[0] = 0\n",
    "binp = 0.5 * (_[1:] + _[:-1])\n",
    "plt.scatter(binp, h / np.sum(h))\n",
    "plt.yscale('log')\n",
    "\n",
    "d = np.loadtxt('PackingDefect1/TGglyc.dat')\n",
    "plt.scatter(d[:,0], d[:,1])"
   ]
  },
  {
   "cell_type": "code",
   "execution_count": null,
   "id": "3e93fa48-fb5c-4667-9e81-91f54d5ac6ee",
   "metadata": {},
   "outputs": [],
   "source": []
  }
 ],
 "metadata": {
  "kernelspec": {
   "display_name": "Python 3 (ipykernel)",
   "language": "python",
   "name": "python3"
  },
  "language_info": {
   "codemirror_mode": {
    "name": "ipython",
    "version": 3
   },
   "file_extension": ".py",
   "mimetype": "text/x-python",
   "name": "python",
   "nbconvert_exporter": "python",
   "pygments_lexer": "ipython3",
   "version": "3.9.5"
  }
 },
 "nbformat": 4,
 "nbformat_minor": 5
}
